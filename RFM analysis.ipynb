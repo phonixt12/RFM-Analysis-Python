{
 "cells": [
  {
   "cell_type": "markdown",
   "id": "b81d6553",
   "metadata": {},
   "source": [
    "# RFM Analysis in Python\n",
    "\n",
    "**Customer Segmentation** : involves the systematic grouping of customers based on shared characteristics. It will support in marketing campagain , including targeted campaigns, and the cultivation of customer loyalty. Companies typically segment their customerin some metrics : encompassing demographics (such as age, gender, and location), behavior (including past orders and responses to messaging), and psychographics (involving values, interests, and lifestyles) .\n",
    "\n",
    "**RFM (Recency-Frequency-Monetary)** analysis is a technique for behavior-based customer segmentation. This method involves grouping customers according to their purchasing records, specifically considering how recently, how frequently, and how much they have made purchases. RFM is a useful tool for identifying and understanding the behavior of the most valuable customers.\n",
    "\n",
    "The goal of this analysis is to identify customer segments for global retail company using RFM analysis and to understand how those groups differ from each other"
   ]
  },
  {
   "cell_type": "code",
   "execution_count": 12,
   "id": "d7f57319",
   "metadata": {},
   "outputs": [
    {
     "name": "stdout",
     "output_type": "stream",
     "text": [
      "Requirement already satisfied: squarify in c:\\users\\phoni\\anaconda3\\lib\\site-packages (0.4.3)\n"
     ]
    }
   ],
   "source": [
    "#Import library \n",
    "import pandas as pd\n",
    "import datetime as dt\n",
    "import seaborn as sns\n",
    "import matplotlib.pyplot as plt\n",
    "!pip install squarify\n",
    "import squarify as sq\n",
    "\n",
    "#Get data from excel\n",
    "eco = pd.read_excel('C:/Users/phoni/Downloads/Final_project_RFM/Final_project_RFM/ecommerce retail.xlsx', sheet_name='ecommerce retail')\n",
    "seg = pd.read_excel('C:/Users/phoni/Downloads/Final_project_RFM/Final_project_RFM/ecommerce retail.xlsx', sheet_name='Segmentation')\n"
   ]
  },
  {
   "cell_type": "code",
   "execution_count": 3,
   "id": "66343407",
   "metadata": {
    "scrolled": true
   },
   "outputs": [
    {
     "data": {
      "text/plain": [
       "InvoiceNo           0\n",
       "StockCode           0\n",
       "Description      1454\n",
       "Quantity            0\n",
       "InvoiceDate         0\n",
       "UnitPrice           0\n",
       "CustomerID     135080\n",
       "Country             0\n",
       "dtype: int64"
      ]
     },
     "execution_count": 3,
     "metadata": {},
     "output_type": "execute_result"
    }
   ],
   "source": [
    "#Data exploration\n",
    "#ecommerce retail sheet\n",
    "#Check null value\n",
    "eco.isnull().sum()\n",
    "\n",
    "#In this dataset , we can see null value in description and customer ID\n",
    "\n"
   ]
  },
  {
   "cell_type": "code",
   "execution_count": 9,
   "id": "34bafd46",
   "metadata": {},
   "outputs": [
    {
     "data": {
      "text/plain": [
       "5268"
      ]
     },
     "execution_count": 9,
     "metadata": {},
     "output_type": "execute_result"
    }
   ],
   "source": [
    "eco.duplicated().sum()\n",
    "#Need to count distinct if we need count all rows"
   ]
  },
  {
   "cell_type": "code",
   "execution_count": 35,
   "id": "3c2b5002",
   "metadata": {},
   "outputs": [
    {
     "name": "stdout",
     "output_type": "stream",
     "text": [
      "True\n"
     ]
    }
   ],
   "source": [
    "has_negative_value1 = (eco['Quantity'] < 0).any()\n",
    "print(has_negative_value1)\n",
    "#Quantity has negative value"
   ]
  },
  {
   "cell_type": "code",
   "execution_count": 33,
   "id": "febec5ac",
   "metadata": {},
   "outputs": [
    {
     "name": "stdout",
     "output_type": "stream",
     "text": [
      "True\n"
     ]
    }
   ],
   "source": [
    "has_negative_value1 = (eco['UnitPrice'] < 0).any()\n",
    "print(has_negative_value1)\n",
    "##Unitprice has negative value"
   ]
  },
  {
   "cell_type": "code",
   "execution_count": 18,
   "id": "cf1efd2c",
   "metadata": {},
   "outputs": [
    {
     "data": {
      "text/plain": [
       "False"
      ]
     },
     "execution_count": 18,
     "metadata": {},
     "output_type": "execute_result"
    }
   ],
   "source": [
    "eco['CustomerID'].is_unique\n",
    "\n",
    "eco['StockCode'].is_unique\n",
    "\n",
    "eco['InvoiceNo'].is_unique\n",
    "\n",
    "#Those things is not unique\n",
    "#Need to count distinct if we need count all rows"
   ]
  },
  {
   "cell_type": "code",
   "execution_count": 3,
   "id": "913b81d9",
   "metadata": {},
   "outputs": [
    {
     "name": "stdout",
     "output_type": "stream",
     "text": [
      "<class 'pandas.core.frame.DataFrame'>\n",
      "RangeIndex: 541909 entries, 0 to 541908\n",
      "Data columns (total 8 columns):\n",
      " #   Column       Non-Null Count   Dtype         \n",
      "---  ------       --------------   -----         \n",
      " 0   InvoiceNo    541909 non-null  object        \n",
      " 1   StockCode    541909 non-null  object        \n",
      " 2   Description  540455 non-null  object        \n",
      " 3   Quantity     541909 non-null  int64         \n",
      " 4   InvoiceDate  541909 non-null  datetime64[ns]\n",
      " 5   UnitPrice    541909 non-null  float64       \n",
      " 6   CustomerID   406829 non-null  float64       \n",
      " 7   Country      541909 non-null  object        \n",
      "dtypes: datetime64[ns](1), float64(2), int64(1), object(4)\n",
      "memory usage: 33.1+ MB\n"
     ]
    }
   ],
   "source": [
    "eco.info()"
   ]
  },
  {
   "cell_type": "code",
   "execution_count": 12,
   "id": "4ae65b42",
   "metadata": {},
   "outputs": [
    {
     "data": {
      "text/plain": [
       "Segment      0\n",
       "RFM Score    0\n",
       "dtype: int64"
      ]
     },
     "execution_count": 12,
     "metadata": {},
     "output_type": "execute_result"
    }
   ],
   "source": [
    "#segmenation\n",
    "\n",
    "seg.isnull().sum()\n",
    "#No null value"
   ]
  },
  {
   "cell_type": "code",
   "execution_count": 21,
   "id": "6ddfc587",
   "metadata": {},
   "outputs": [
    {
     "name": "stdout",
     "output_type": "stream",
     "text": [
      "<class 'pandas.core.frame.DataFrame'>\n",
      "RangeIndex: 541909 entries, 0 to 541908\n",
      "Data columns (total 8 columns):\n",
      " #   Column       Non-Null Count   Dtype         \n",
      "---  ------       --------------   -----         \n",
      " 0   InvoiceNo    541909 non-null  object        \n",
      " 1   StockCode    541909 non-null  object        \n",
      " 2   Description  540455 non-null  object        \n",
      " 3   Quantity     541909 non-null  int64         \n",
      " 4   InvoiceDate  541909 non-null  datetime64[ns]\n",
      " 5   UnitPrice    541909 non-null  float64       \n",
      " 6   CustomerID   406829 non-null  float64       \n",
      " 7   Country      541909 non-null  object        \n",
      "dtypes: datetime64[ns](1), float64(2), int64(1), object(4)\n",
      "memory usage: 33.1+ MB\n"
     ]
    }
   ],
   "source": [
    "eco.info()"
   ]
  },
  {
   "cell_type": "code",
   "execution_count": 16,
   "id": "edcb6025",
   "metadata": {},
   "outputs": [
    {
     "data": {
      "text/plain": [
       "0"
      ]
     },
     "execution_count": 16,
     "metadata": {},
     "output_type": "execute_result"
    }
   ],
   "source": [
    "seg.duplicated().sum()\n",
    "#No null value"
   ]
  },
  {
   "cell_type": "code",
   "execution_count": 2,
   "id": "f145cf5c",
   "metadata": {},
   "outputs": [
    {
     "name": "stdout",
     "output_type": "stream",
     "text": [
      "<class 'pandas.core.frame.DataFrame'>\n",
      "RangeIndex: 11 entries, 0 to 10\n",
      "Data columns (total 2 columns):\n",
      " #   Column     Non-Null Count  Dtype \n",
      "---  ------     --------------  ----- \n",
      " 0   Segment    11 non-null     object\n",
      " 1   RFM Score  11 non-null     object\n",
      "dtypes: object(2)\n",
      "memory usage: 308.0+ bytes\n"
     ]
    }
   ],
   "source": [
    "seg.info()"
   ]
  },
  {
   "cell_type": "markdown",
   "id": "2cb4dcf2",
   "metadata": {},
   "source": [
    "# Dataset overview\n",
    "    \n",
    "The retail dataset of a global superstore for years 2011-2012 is used in this analysis. \n",
    "\n",
    "It contains information about:\n",
    "\n",
    "The column in ecommerce retail : InvoiceNo,\tStockCode,\tDescription,\tQuantity,\tInvoiceDate,\tUnitPrice,\tCustomerID,\tCountry\n",
    "\n",
    "The column in Segmentation : Segment\tRFM, Score\n",
    "\n",
    "Number of records in ecommerce retail  : 4,198,746\n",
    "\n",
    "Number of records in Segmentation: 24"
   ]
  },
  {
   "cell_type": "code",
   "execution_count": 6,
   "id": "26375332",
   "metadata": {},
   "outputs": [
    {
     "data": {
      "text/html": [
       "<div>\n",
       "<style scoped>\n",
       "    .dataframe tbody tr th:only-of-type {\n",
       "        vertical-align: middle;\n",
       "    }\n",
       "\n",
       "    .dataframe tbody tr th {\n",
       "        vertical-align: top;\n",
       "    }\n",
       "\n",
       "    .dataframe thead th {\n",
       "        text-align: right;\n",
       "    }\n",
       "</style>\n",
       "<table border=\"1\" class=\"dataframe\">\n",
       "  <thead>\n",
       "    <tr style=\"text-align: right;\">\n",
       "      <th></th>\n",
       "      <th>InvoiceNo</th>\n",
       "      <th>StockCode</th>\n",
       "      <th>Description</th>\n",
       "      <th>Quantity</th>\n",
       "      <th>InvoiceDate</th>\n",
       "      <th>UnitPrice</th>\n",
       "      <th>CustomerID</th>\n",
       "      <th>Country</th>\n",
       "    </tr>\n",
       "  </thead>\n",
       "  <tbody>\n",
       "    <tr>\n",
       "      <th>0</th>\n",
       "      <td>536365</td>\n",
       "      <td>85123A</td>\n",
       "      <td>WHITE HANGING HEART T-LIGHT HOLDER</td>\n",
       "      <td>6</td>\n",
       "      <td>2010-12-01 08:26:00</td>\n",
       "      <td>2.55</td>\n",
       "      <td>17850.0</td>\n",
       "      <td>United Kingdom</td>\n",
       "    </tr>\n",
       "    <tr>\n",
       "      <th>1</th>\n",
       "      <td>536365</td>\n",
       "      <td>71053</td>\n",
       "      <td>WHITE METAL LANTERN</td>\n",
       "      <td>6</td>\n",
       "      <td>2010-12-01 08:26:00</td>\n",
       "      <td>3.39</td>\n",
       "      <td>17850.0</td>\n",
       "      <td>United Kingdom</td>\n",
       "    </tr>\n",
       "    <tr>\n",
       "      <th>2</th>\n",
       "      <td>536365</td>\n",
       "      <td>84406B</td>\n",
       "      <td>CREAM CUPID HEARTS COAT HANGER</td>\n",
       "      <td>8</td>\n",
       "      <td>2010-12-01 08:26:00</td>\n",
       "      <td>2.75</td>\n",
       "      <td>17850.0</td>\n",
       "      <td>United Kingdom</td>\n",
       "    </tr>\n",
       "    <tr>\n",
       "      <th>3</th>\n",
       "      <td>536365</td>\n",
       "      <td>84029G</td>\n",
       "      <td>KNITTED UNION FLAG HOT WATER BOTTLE</td>\n",
       "      <td>6</td>\n",
       "      <td>2010-12-01 08:26:00</td>\n",
       "      <td>3.39</td>\n",
       "      <td>17850.0</td>\n",
       "      <td>United Kingdom</td>\n",
       "    </tr>\n",
       "    <tr>\n",
       "      <th>4</th>\n",
       "      <td>536365</td>\n",
       "      <td>84029E</td>\n",
       "      <td>RED WOOLLY HOTTIE WHITE HEART.</td>\n",
       "      <td>6</td>\n",
       "      <td>2010-12-01 08:26:00</td>\n",
       "      <td>3.39</td>\n",
       "      <td>17850.0</td>\n",
       "      <td>United Kingdom</td>\n",
       "    </tr>\n",
       "  </tbody>\n",
       "</table>\n",
       "</div>"
      ],
      "text/plain": [
       "  InvoiceNo StockCode                          Description  Quantity  \\\n",
       "0    536365    85123A   WHITE HANGING HEART T-LIGHT HOLDER         6   \n",
       "1    536365     71053                  WHITE METAL LANTERN         6   \n",
       "2    536365    84406B       CREAM CUPID HEARTS COAT HANGER         8   \n",
       "3    536365    84029G  KNITTED UNION FLAG HOT WATER BOTTLE         6   \n",
       "4    536365    84029E       RED WOOLLY HOTTIE WHITE HEART.         6   \n",
       "\n",
       "          InvoiceDate  UnitPrice  CustomerID         Country  \n",
       "0 2010-12-01 08:26:00       2.55     17850.0  United Kingdom  \n",
       "1 2010-12-01 08:26:00       3.39     17850.0  United Kingdom  \n",
       "2 2010-12-01 08:26:00       2.75     17850.0  United Kingdom  \n",
       "3 2010-12-01 08:26:00       3.39     17850.0  United Kingdom  \n",
       "4 2010-12-01 08:26:00       3.39     17850.0  United Kingdom  "
      ]
     },
     "execution_count": 6,
     "metadata": {},
     "output_type": "execute_result"
    }
   ],
   "source": [
    "eco.head()"
   ]
  },
  {
   "cell_type": "code",
   "execution_count": 9,
   "id": "a574849f",
   "metadata": {},
   "outputs": [
    {
     "data": {
      "text/html": [
       "<div>\n",
       "<style scoped>\n",
       "    .dataframe tbody tr th:only-of-type {\n",
       "        vertical-align: middle;\n",
       "    }\n",
       "\n",
       "    .dataframe tbody tr th {\n",
       "        vertical-align: top;\n",
       "    }\n",
       "\n",
       "    .dataframe thead th {\n",
       "        text-align: right;\n",
       "    }\n",
       "</style>\n",
       "<table border=\"1\" class=\"dataframe\">\n",
       "  <thead>\n",
       "    <tr style=\"text-align: right;\">\n",
       "      <th></th>\n",
       "      <th>Segment</th>\n",
       "      <th>RFM Score</th>\n",
       "    </tr>\n",
       "  </thead>\n",
       "  <tbody>\n",
       "    <tr>\n",
       "      <th>0</th>\n",
       "      <td>Champions</td>\n",
       "      <td>555, 554, 544, 545, 454, 455, 445</td>\n",
       "    </tr>\n",
       "    <tr>\n",
       "      <th>1</th>\n",
       "      <td>Loyal</td>\n",
       "      <td>543, 444, 435, 355, 354, 345, 344, 335</td>\n",
       "    </tr>\n",
       "    <tr>\n",
       "      <th>2</th>\n",
       "      <td>Potential Loyalist</td>\n",
       "      <td>553, 551, 552, 541, 542, 533, 532, 531, 452, 4...</td>\n",
       "    </tr>\n",
       "    <tr>\n",
       "      <th>3</th>\n",
       "      <td>New Customers</td>\n",
       "      <td>512, 511, 422, 421, 412, 411, 311</td>\n",
       "    </tr>\n",
       "    <tr>\n",
       "      <th>4</th>\n",
       "      <td>Promising</td>\n",
       "      <td>525, 524, 523, 522, 521, 515, 514, 513, 425,42...</td>\n",
       "    </tr>\n",
       "  </tbody>\n",
       "</table>\n",
       "</div>"
      ],
      "text/plain": [
       "              Segment                                          RFM Score\n",
       "0           Champions                  555, 554, 544, 545, 454, 455, 445\n",
       "1               Loyal             543, 444, 435, 355, 354, 345, 344, 335\n",
       "2  Potential Loyalist  553, 551, 552, 541, 542, 533, 532, 531, 452, 4...\n",
       "3       New Customers                  512, 511, 422, 421, 412, 411, 311\n",
       "4           Promising  525, 524, 523, 522, 521, 515, 514, 513, 425,42..."
      ]
     },
     "execution_count": 9,
     "metadata": {},
     "output_type": "execute_result"
    }
   ],
   "source": [
    "seg.head()"
   ]
  },
  {
   "cell_type": "markdown",
   "id": "f2ff2339",
   "metadata": {},
   "source": [
    "# Recency, Frequency, Monetary\n",
    "\n",
    "RFM model combines three different customer attributes to rank customers:\n",
    "\n",
    "**Rcency (R)**: Who have purchased recently? Number of days from last order\n",
    "\n",
    "**Frequency (F)**: \n",
    "Who has purchased frequently? The total number of orders\n",
    "\n",
    "**Monetary Value(M)**: \n",
    "Who has high purchase amount? The total money customer spent\n",
    "\n",
    "The customer have high point when they they recency value is low, high frequency, monetary.\n",
    "\n",
    "**How to create segments?**\n",
    "\n",
    "After define the rank per segment by customer combine it in a column and rank it accroding in dataset"
   ]
  },
  {
   "cell_type": "code",
   "execution_count": 24,
   "id": "53aead36",
   "metadata": {},
   "outputs": [
    {
     "name": "stderr",
     "output_type": "stream",
     "text": [
      "C:\\Users\\phoni\\AppData\\Local\\Temp\\ipykernel_29276\\3528947671.py:9: SettingWithCopyWarning: \n",
      "A value is trying to be set on a copy of a slice from a DataFrame.\n",
      "Try using .loc[row_indexer,col_indexer] = value instead\n",
      "\n",
      "See the caveats in the documentation: https://pandas.pydata.org/pandas-docs/stable/user_guide/indexing.html#returning-a-view-versus-a-copy\n",
      "  raw_data['Lasted_order_day']=raw_data.groupby(['CustomerID'])['InvoiceDate'].transform('max')\n",
      "C:\\Users\\phoni\\AppData\\Local\\Temp\\ipykernel_29276\\3528947671.py:10: UserWarning: Parsing dates in %d/%m/%Y format when dayfirst=False (the default) was specified. Pass `dayfirst=True` or specify a format to silence this warning.\n",
      "  raw_data['Recency'] = (pd.to_datetime('31/12/2011') - raw_data['Lasted_order_day']).dt.days\n",
      "C:\\Users\\phoni\\AppData\\Local\\Temp\\ipykernel_29276\\3528947671.py:10: SettingWithCopyWarning: \n",
      "A value is trying to be set on a copy of a slice from a DataFrame.\n",
      "Try using .loc[row_indexer,col_indexer] = value instead\n",
      "\n",
      "See the caveats in the documentation: https://pandas.pydata.org/pandas-docs/stable/user_guide/indexing.html#returning-a-view-versus-a-copy\n",
      "  raw_data['Recency'] = (pd.to_datetime('31/12/2011') - raw_data['Lasted_order_day']).dt.days\n",
      "C:\\Users\\phoni\\AppData\\Local\\Temp\\ipykernel_29276\\3528947671.py:13: SettingWithCopyWarning: \n",
      "A value is trying to be set on a copy of a slice from a DataFrame.\n",
      "Try using .loc[row_indexer,col_indexer] = value instead\n",
      "\n",
      "See the caveats in the documentation: https://pandas.pydata.org/pandas-docs/stable/user_guide/indexing.html#returning-a-view-versus-a-copy\n",
      "  raw_data['Total'] = raw_data['UnitPrice']*raw_data['Quantity']\n",
      "C:\\Users\\phoni\\AppData\\Local\\Temp\\ipykernel_29276\\3528947671.py:14: SettingWithCopyWarning: \n",
      "A value is trying to be set on a copy of a slice from a DataFrame.\n",
      "Try using .loc[row_indexer,col_indexer] = value instead\n",
      "\n",
      "See the caveats in the documentation: https://pandas.pydata.org/pandas-docs/stable/user_guide/indexing.html#returning-a-view-versus-a-copy\n",
      "  raw_data['Monetary'] = raw_data.groupby(['CustomerID'])['Total'].transform('sum')\n",
      "C:\\Users\\phoni\\AppData\\Local\\Temp\\ipykernel_29276\\3528947671.py:17: SettingWithCopyWarning: \n",
      "A value is trying to be set on a copy of a slice from a DataFrame.\n",
      "Try using .loc[row_indexer,col_indexer] = value instead\n",
      "\n",
      "See the caveats in the documentation: https://pandas.pydata.org/pandas-docs/stable/user_guide/indexing.html#returning-a-view-versus-a-copy\n",
      "  raw_data['Frequency'] = raw_data.groupby(['CustomerID'])['InvoiceNo'].transform('nunique')\n"
     ]
    },
    {
     "data": {
      "text/html": [
       "<div>\n",
       "<style scoped>\n",
       "    .dataframe tbody tr th:only-of-type {\n",
       "        vertical-align: middle;\n",
       "    }\n",
       "\n",
       "    .dataframe tbody tr th {\n",
       "        vertical-align: top;\n",
       "    }\n",
       "\n",
       "    .dataframe thead th {\n",
       "        text-align: right;\n",
       "    }\n",
       "</style>\n",
       "<table border=\"1\" class=\"dataframe\">\n",
       "  <thead>\n",
       "    <tr style=\"text-align: right;\">\n",
       "      <th></th>\n",
       "      <th>cus_count</th>\n",
       "      <th>avg_rec</th>\n",
       "      <th>avg_fre</th>\n",
       "      <th>sum_mon</th>\n",
       "      <th>cus_share</th>\n",
       "      <th>mon_share</th>\n",
       "    </tr>\n",
       "    <tr>\n",
       "      <th>Segment</th>\n",
       "      <th></th>\n",
       "      <th></th>\n",
       "      <th></th>\n",
       "      <th></th>\n",
       "      <th></th>\n",
       "      <th></th>\n",
       "    </tr>\n",
       "  </thead>\n",
       "  <tbody>\n",
       "    <tr>\n",
       "      <th>Promising</th>\n",
       "      <td>95</td>\n",
       "      <td>30.0</td>\n",
       "      <td>1.2</td>\n",
       "      <td>49652.6</td>\n",
       "      <td>2.2</td>\n",
       "      <td>0.6</td>\n",
       "    </tr>\n",
       "    <tr>\n",
       "      <th>Cannot Lose Them</th>\n",
       "      <td>112</td>\n",
       "      <td>267.6</td>\n",
       "      <td>1.9</td>\n",
       "      <td>217375.1</td>\n",
       "      <td>2.6</td>\n",
       "      <td>2.4</td>\n",
       "    </tr>\n",
       "    <tr>\n",
       "      <th>New Customers</th>\n",
       "      <td>160</td>\n",
       "      <td>43.7</td>\n",
       "      <td>1.1</td>\n",
       "      <td>37859.9</td>\n",
       "      <td>3.7</td>\n",
       "      <td>0.4</td>\n",
       "    </tr>\n",
       "    <tr>\n",
       "      <th>About To Sleep</th>\n",
       "      <td>259</td>\n",
       "      <td>97.4</td>\n",
       "      <td>1.3</td>\n",
       "      <td>61586.1</td>\n",
       "      <td>6.0</td>\n",
       "      <td>0.7</td>\n",
       "    </tr>\n",
       "    <tr>\n",
       "      <th>Need Attention</th>\n",
       "      <td>269</td>\n",
       "      <td>54.4</td>\n",
       "      <td>3.0</td>\n",
       "      <td>446013.1</td>\n",
       "      <td>6.2</td>\n",
       "      <td>5.0</td>\n",
       "    </tr>\n",
       "    <tr>\n",
       "      <th>At Risk</th>\n",
       "      <td>395</td>\n",
       "      <td>157.7</td>\n",
       "      <td>3.9</td>\n",
       "      <td>733297.1</td>\n",
       "      <td>9.1</td>\n",
       "      <td>8.2</td>\n",
       "    </tr>\n",
       "    <tr>\n",
       "      <th>Loyal</th>\n",
       "      <td>460</td>\n",
       "      <td>56.5</td>\n",
       "      <td>5.1</td>\n",
       "      <td>1070671.0</td>\n",
       "      <td>10.6</td>\n",
       "      <td>12.0</td>\n",
       "    </tr>\n",
       "    <tr>\n",
       "      <th>Potential Loyalist</th>\n",
       "      <td>461</td>\n",
       "      <td>49.3</td>\n",
       "      <td>2.4</td>\n",
       "      <td>255715.1</td>\n",
       "      <td>10.6</td>\n",
       "      <td>2.9</td>\n",
       "    </tr>\n",
       "    <tr>\n",
       "      <th>Lost customers</th>\n",
       "      <td>567</td>\n",
       "      <td>299.2</td>\n",
       "      <td>1.1</td>\n",
       "      <td>126018.6</td>\n",
       "      <td>13.1</td>\n",
       "      <td>1.4</td>\n",
       "    </tr>\n",
       "    <tr>\n",
       "      <th>Hibernating customers</th>\n",
       "      <td>713</td>\n",
       "      <td>144.9</td>\n",
       "      <td>1.6</td>\n",
       "      <td>289802.2</td>\n",
       "      <td>16.4</td>\n",
       "      <td>3.3</td>\n",
       "    </tr>\n",
       "    <tr>\n",
       "      <th>Champions</th>\n",
       "      <td>847</td>\n",
       "      <td>31.7</td>\n",
       "      <td>12.0</td>\n",
       "      <td>5623417.0</td>\n",
       "      <td>19.5</td>\n",
       "      <td>63.1</td>\n",
       "    </tr>\n",
       "  </tbody>\n",
       "</table>\n",
       "</div>"
      ],
      "text/plain": [
       "                       cus_count  avg_rec  avg_fre    sum_mon  cus_share  \\\n",
       "Segment                                                                    \n",
       "Promising                     95     30.0      1.2    49652.6        2.2   \n",
       "Cannot Lose Them             112    267.6      1.9   217375.1        2.6   \n",
       "New Customers                160     43.7      1.1    37859.9        3.7   \n",
       "About To Sleep               259     97.4      1.3    61586.1        6.0   \n",
       "Need Attention               269     54.4      3.0   446013.1        6.2   \n",
       "At Risk                      395    157.7      3.9   733297.1        9.1   \n",
       "Loyal                        460     56.5      5.1  1070671.0       10.6   \n",
       "Potential Loyalist           461     49.3      2.4   255715.1       10.6   \n",
       "Lost customers               567    299.2      1.1   126018.6       13.1   \n",
       "Hibernating customers        713    144.9      1.6   289802.2       16.4   \n",
       "Champions                    847     31.7     12.0  5623417.0       19.5   \n",
       "\n",
       "                       mon_share  \n",
       "Segment                           \n",
       "Promising                    0.6  \n",
       "Cannot Lose Them             2.4  \n",
       "New Customers                0.4  \n",
       "About To Sleep               0.7  \n",
       "Need Attention               5.0  \n",
       "At Risk                      8.2  \n",
       "Loyal                       12.0  \n",
       "Potential Loyalist           2.9  \n",
       "Lost customers               1.4  \n",
       "Hibernating customers        3.3  \n",
       "Champions                   63.1  "
      ]
     },
     "execution_count": 24,
     "metadata": {},
     "output_type": "execute_result"
    }
   ],
   "source": [
    "#Clean Data\n",
    "#Drop null value\n",
    "raw_data = eco[(eco['CustomerID'].notna()) \n",
    "#Remove negative value\n",
    "               & (eco['Quantity']>0) \n",
    "               & (eco['UnitPrice']>0)]\n",
    "\n",
    "#Calculate Recency value\n",
    "raw_data['Lasted_order_day']=raw_data.groupby(['CustomerID'])['InvoiceDate'].transform('max')\n",
    "raw_data['Recency'] = (pd.to_datetime('31/12/2011') - raw_data['Lasted_order_day']).dt.days\n",
    "\n",
    "#Calculate Monetary value\n",
    "raw_data['Total'] = raw_data['UnitPrice']*raw_data['Quantity']\n",
    "raw_data['Monetary'] = raw_data.groupby(['CustomerID'])['Total'].transform('sum')\n",
    "\n",
    "#Calculate Recency Value\n",
    "raw_data['Frequency'] = raw_data.groupby(['CustomerID'])['InvoiceNo'].transform('nunique')\n",
    "\n",
    "#Create a RFM table\n",
    "transform_data = raw_data[['CustomerID','Recency','Frequency','Monetary']]\n",
    "\n",
    "#Clean duplicate value\n",
    "clean_data = transform_data.drop_duplicates().reset_index()\n",
    "\n",
    "#Create RFM value\n",
    "clean_data['R Value'] = pd.qcut(clean_data['Recency'],q=5,labels=[5,4,3,2,1])\n",
    "clean_data['F Value'] = pd.qcut(clean_data['Frequency'].rank(method='first'),q=5,labels=[1,2,3,4,5])\n",
    "clean_data['M Value'] = pd.qcut(clean_data['Monetary'],q=5,labels=[1,2,3,4,5])\n",
    "clean_data['RFM'] = clean_data['R Value'].astype(str)+clean_data['F Value'].astype(str)+clean_data['M Value'].astype(str)\n",
    "\n",
    "#Assign Segment for customer\n",
    "def find_rfmvalue(RFM):\n",
    "    for index,row in seg.iterrows():\n",
    "        if RFM in row['RFM Score']:\n",
    "            return row['Segment']\n",
    "    return 'not find'\n",
    "clean_data['Segment'] = clean_data['RFM'].apply(find_rfmvalue)\n",
    "RFM = clean_data[['CustomerID','Recency','Frequency','Monetary','Segment']]\n",
    "\n",
    "segment_data = RFM.groupby('Segment').agg(cus_count=('CustomerID','count'),\n",
    "                                               avg_rec = ('Recency','mean'),\n",
    "                                               avg_fre = ('Frequency','mean'),\n",
    "                                               sum_mon = ('Monetary','sum')\n",
    "                                      \n",
    "                                     ).round(1)\n",
    "segment_data['cus_share']= ((segment_data['cus_count']/segment_data['cus_count'].sum())*100).round(1)\n",
    "segment_data['mon_share']= ((segment_data['sum_mon']/segment_data['sum_mon'].sum())*100).round(1)\n",
    "segment_data.sort_values(by='cus_count',inplace=True)\n",
    "segment_data\n"
   ]
  },
  {
   "cell_type": "markdown",
   "id": "75b41d78",
   "metadata": {},
   "source": [
    "# RFM Customer Segments\n",
    "\n",
    "**Champions** - bought recently, buy often and spend the most\n",
    "\n",
    "**Loyal Customers** - spend good money and often, responsive to promotions\n",
    "\n",
    "**Potential Loyalist** - recent customers, but spent a good amount and bought more than once\n",
    "\n",
    "**New Customers** - bought most recently, but not often\n",
    "\n",
    "**Promising** - recent shoppers, but haven’t spent much\n",
    "\n",
    "**Needing Attention** - above average recency, frequency and monetary values; may not have bought very recently though\n",
    "\n",
    "**About To Sleep** - below average recency, frequency and monetary values; will lose them if not reactivated\n",
    "\n",
    "**At Risk** - spent big money and purchased often but long time ago; need to bring them back\n",
    "\n",
    "**Can't Loose Them** - made biggest purchases, and often but haven’t returned for a long time\n",
    "\n",
    "**Hibernating** - last purchase was long back, low spenders and low number of orders"
   ]
  },
  {
   "cell_type": "code",
   "execution_count": 46,
   "id": "34866da7",
   "metadata": {},
   "outputs": [],
   "source": [
    "color1= sns.color_palette('GnBu',11)\n",
    "color2= sns.color_palette('RdBu_r',11)"
   ]
  },
  {
   "cell_type": "code",
   "execution_count": 36,
   "id": "d3ba09ef",
   "metadata": {},
   "outputs": [
    {
     "data": {
      "image/png": "[encoded data removed]",
      "text/plain": [
       "<Figure size 400x300 with 1 Axes>"
      ]
     },
     "metadata": {},
     "output_type": "display_data"
    }
   ],
   "source": [
    "\n",
    "\n",
    "fig, ax = plt.subplots(1, figsize=(4,3))\n",
    "segment_data_reset = segment_data.reset_index()\n",
    "r_chart = sns.barplot(x='Segment',y='avg_rec',data= segment_data_reset.sort_values('avg_rec'),palette=colors1)\n",
    "r_chart.set_title('Average Recency by RFM Segments')\n",
    "r_chart.set_xlabel('Segment')\n",
    "r_chart.set_ylabel('Average of Recency')\n",
    "plt.xticks(rotation=90)\n",
    "plt.show()"
   ]
  },
  {
   "cell_type": "code",
   "execution_count": 26,
   "id": "0d04285c",
   "metadata": {
    "scrolled": false
   },
   "outputs": [
    {
     "data": {
      "image/png": "[encoded data removed]",
      "text/plain": [
       "<Figure size 400x300 with 1 Axes>"
      ]
     },
     "metadata": {},
     "output_type": "display_data"
    }
   ],
   "source": [
    "fig,ax = plt.subplots(1,figsize=(4,3))\n",
    "r_chart=sns.barplot(x='Segment',y='avg_fre',data=segment_data_reset.sort_values('avg_fre'),palette=colors1)\n",
    "r_chart.set_title('Average Frequency by RFM Segments')\n",
    "r_chart.set_xlabel('Segment')\n",
    "r_chart.set_ylabel('Average of Frequency')\n",
    "plt.xticks(rotation=90)\n",
    "plt.show()"
   ]
  },
  {
   "cell_type": "code",
   "execution_count": 65,
   "id": "4436ca58",
   "metadata": {},
   "outputs": [
    {
     "data": {
      "image/png": "[encoded data removed]",
      "text/plain": [
       "<Figure size 1500x600 with 1 Axes>"
      ]
     },
     "metadata": {},
     "output_type": "display_data"
    }
   ],
   "source": [
    "\n",
    "fig,ax = plt.subplots(1,figsize=(15,6))\n",
    "sales_map = sq.plot(sizes=segment_data_reset['mon_share'], \n",
    "                    label=segment_data_reset['Segment'],\n",
    "                    color=color1,\n",
    "                    alpha=.9,\n",
    "                    text_kwargs={'fontsize':9},\n",
    "                    value=[f'{x}%' for x in segment_data_reset['mon_share']])\n",
    "plt.title('Total sales by RFM Segments')\n",
    "plt.axis(\"off\")\n",
    "plt.show()"
   ]
  },
  {
   "cell_type": "code",
   "execution_count": 49,
   "id": "56fc94b2",
   "metadata": {},
   "outputs": [
    {
     "data": {
      "image/png": "[encoded data removed]",
      "text/plain": [
       "<Figure size 900x600 with 1 Axes>"
      ]
     },
     "metadata": {},
     "output_type": "display_data"
    }
   ],
   "source": [
    "fig,ax = plt.subplots(1,figsize=(9,6))\n",
    "sales_map = sq.plot(sizes=segment_data_reset['cus_share'], \n",
    "                    label=segment_data_reset['Segment'],\n",
    "                    color=color2,\n",
    "                    alpha=.9,\n",
    "                    text_kwargs={'fontsize':9},\n",
    "                    value=[f'{x}%' for x in segment_data_reset['cus_share']])\n",
    "plt.title('Total customer by RFM Segments')\n",
    "plt.axis(\"off\")\n",
    "plt.show()"
   ]
  },
  {
   "cell_type": "code",
   "execution_count": 138,
   "id": "1ddbc34f",
   "metadata": {},
   "outputs": [
    {
     "data": {
      "text/html": [
       "<div>\n",
       "<style scoped>\n",
       "    .dataframe tbody tr th:only-of-type {\n",
       "        vertical-align: middle;\n",
       "    }\n",
       "\n",
       "    .dataframe tbody tr th {\n",
       "        vertical-align: top;\n",
       "    }\n",
       "\n",
       "    .dataframe thead th {\n",
       "        text-align: right;\n",
       "    }\n",
       "</style>\n",
       "<table border=\"1\" class=\"dataframe\">\n",
       "  <thead>\n",
       "    <tr style=\"text-align: right;\">\n",
       "      <th></th>\n",
       "      <th>Recency</th>\n",
       "      <th>Frequency</th>\n",
       "      <th>Monetary</th>\n",
       "    </tr>\n",
       "  </thead>\n",
       "  <tbody>\n",
       "    <tr>\n",
       "      <th>count</th>\n",
       "      <td>4338.0</td>\n",
       "      <td>4338.0</td>\n",
       "      <td>4338.0</td>\n",
       "    </tr>\n",
       "    <tr>\n",
       "      <th>mean</th>\n",
       "      <td>113.1</td>\n",
       "      <td>4.3</td>\n",
       "      <td>2054.3</td>\n",
       "    </tr>\n",
       "    <tr>\n",
       "      <th>std</th>\n",
       "      <td>100.0</td>\n",
       "      <td>7.7</td>\n",
       "      <td>8989.2</td>\n",
       "    </tr>\n",
       "    <tr>\n",
       "      <th>min</th>\n",
       "      <td>21.0</td>\n",
       "      <td>1.0</td>\n",
       "      <td>3.8</td>\n",
       "    </tr>\n",
       "    <tr>\n",
       "      <th>25%</th>\n",
       "      <td>38.0</td>\n",
       "      <td>1.0</td>\n",
       "      <td>307.4</td>\n",
       "    </tr>\n",
       "    <tr>\n",
       "      <th>50%</th>\n",
       "      <td>71.0</td>\n",
       "      <td>2.0</td>\n",
       "      <td>674.5</td>\n",
       "    </tr>\n",
       "    <tr>\n",
       "      <th>75%</th>\n",
       "      <td>162.8</td>\n",
       "      <td>5.0</td>\n",
       "      <td>1661.7</td>\n",
       "    </tr>\n",
       "    <tr>\n",
       "      <th>max</th>\n",
       "      <td>394.0</td>\n",
       "      <td>209.0</td>\n",
       "      <td>280206.0</td>\n",
       "    </tr>\n",
       "  </tbody>\n",
       "</table>\n",
       "</div>"
      ],
      "text/plain": [
       "       Recency  Frequency  Monetary\n",
       "count   4338.0     4338.0    4338.0\n",
       "mean     113.1        4.3    2054.3\n",
       "std      100.0        7.7    8989.2\n",
       "min       21.0        1.0       3.8\n",
       "25%       38.0        1.0     307.4\n",
       "50%       71.0        2.0     674.5\n",
       "75%      162.8        5.0    1661.7\n",
       "max      394.0      209.0  280206.0"
      ]
     },
     "execution_count": 138,
     "metadata": {},
     "output_type": "execute_result"
    }
   ],
   "source": [
    "rfm_evaluate = RFM[['Recency','Frequency','Monetary']]\n",
    "rfm_evaluate.describe().round(1)\n"
   ]
  },
  {
   "cell_type": "markdown",
   "id": "fea782fe",
   "metadata": {},
   "source": [
    "**Insight**\n",
    "\n",
    "The data presented in the table reveals a notable high mean value for Recency, indicating that customers are inclined to discontinue their association with Superstore in the future. Conversely, there is an absence of positive signals in Frequency, with a mean value of 4.3, falling below the normal range, and a median of 2, signaling a significant concern for SuperStore. Despite these challenges, the Monetary aspect exhibits a positive side, with a mean value exceeding 2000\n",
    "\n",
    "The charts illustrating revenue and customer distribution across segments highlight that the Champions group, constituting 19.15% of the customer base, contributes more than 60% of the revenue. Following closely in revenue are the Loyal and At-risk groups, contributing 12% and 8.2%, respectively. However, Hibernating and Lost customers account for 16.4% and 13.1%, respectively, yet purchase fewer types of products, at 3.3% and 1.4%, respectively. The Need Attention group, comprising 5% of revenue, represents only 6.2% of total customers, necessitating special attention\n",
    "\n",
    "Examining the chart depicting customer segments, it is evident that the Championship group constitutes the largest portion at around 60%, signifying that Superstore possesses a considerable number of loyal customers\n",
    "\n",
    "The revenue chart underscores the significance of the Championship and Loyal groups as the highest contributors to the store's earnings\n",
    "\n",
    "The division of other customer groups into potential and in-danger categories reveals opportunities and risks. Potential customers include Hibernating customers, potential loyalists, promising, and new customers\n",
    "\n",
    "**Recommendation**\n",
    "\n",
    "To address these insights, it is imperative for Superstore to concentrate efforts on increasing both Recency and Frequency values. This strategic focus will likely contribute to customer retention and overall store performance\n",
    "\n",
    "Superstore should focus efforts on engaging with the Need Attention group, understanding their preferences, and implementing strategies to enhance their contribution to both revenue and overall customer satisfaction\n",
    "\n",
    "To maintain this strong customer base, Superstore should implement targeted marketing campaigns, such as personalized offers, exclusive discounts, and special services, to reinforce the loyalty of the Championship group\n",
    "\n",
    "Superstore should implement marketing campaigns tailored to the Championship and Loyal groups, focusing on strategies like birthday gifts, new product experiences, discounted offerings, and personalized customer care to strengthen their loyalty\n",
    "\n",
    "For potential customers, Superstore should introduce a loyalty program, engage actively on social media, and encourage customer referrals. In contrast, in-danger customers should be identified and rewarded for their value, while feedback should be actively sought and utilized for continuous improvement\n",
    "\n",
    "**Finally**\n",
    "\n",
    "In conclusion, Superstore should personalize marketing messages, provide exclusive benefits to loyal customers, and implement targeted strategies for potential and in-danger customer groups to enhance overall customer satisfaction and store performance"
   ]
  },
  {
   "cell_type": "code",
   "execution_count": null,
   "id": "3e44dfe2",
   "metadata": {},
   "outputs": [],
   "source": []
  }
 ],
 "metadata": {
  "kernelspec": {
   "display_name": "Python 3 (ipykernel)",
   "language": "python",
   "name": "python3"
  },
  "language_info": {
   "codemirror_mode": {
    "name": "ipython",
    "version": 3
   },
   "file_extension": ".py",
   "mimetype": "text/x-python",
   "name": "python",
   "nbconvert_exporter": "python",
   "pygments_lexer": "ipython3",
   "version": "3.11.5"
  }
 },
 "nbformat": 4,
 "nbformat_minor": 5
}
